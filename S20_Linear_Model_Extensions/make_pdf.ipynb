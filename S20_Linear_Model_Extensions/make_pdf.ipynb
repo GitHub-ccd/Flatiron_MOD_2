{
 "cells": [
  {
   "cell_type": "markdown",
   "metadata": {},
   "source": [
    "# make pdfs of lessons \n",
    "following stack overflow has code to convert .ipynb to .pdf\n",
    "\n",
    "https://stackoverflow.com/questions/15998491/how-to-convert-ipython-notebooks-to-pdf-and-html\n",
    "if pdfs cannot be generated directly much better to convert to HTML and then to pdfs \n",
    "\n",
    "## convert HTML to pdfs\n",
    "\n",
    "https://www.geeksforgeeks.org/python-convert-html-pdf/"
   ]
  },
  {
   "cell_type": "code",
   "execution_count": 1,
   "metadata": {},
   "outputs": [],
   "source": [
    "import os\n",
    "from PyPDF2 import PdfFileMerger\n",
    "import pdfkit "
   ]
  },
  {
   "cell_type": "markdown",
   "metadata": {},
   "source": [
    "# are you shitting me. I can manipulate .pdf on python directly ? \n",
    "pip install PyPDF2\n",
    "\n",
    "https://pypi.org/project/PyPDF2/\n",
    "\n",
    "method to concatenate pdfs are here \n",
    "\n",
    "https://stackoverflow.com/questions/3444645/merge-pdf-files"
   ]
  },
  {
   "cell_type": "code",
   "execution_count": null,
   "metadata": {},
   "outputs": [],
   "source": [
    "f = open('note_list.txt')\n",
    "#merger = PdfFileMerger()\n",
    "\n",
    "# cnt=1\n",
    "for l in f:\n",
    "    path = str(l).strip()\n",
    "    print(path)\n",
    "    #!cd $path # this shit doesn't work\n",
    "    #!echo $path\n",
    "    # syntax jupyter nbconvert --execute --to pdf notebook.ipynb\n",
    "    # jupyter nbconvert --execute --to html notebook.ipynb\n",
    "    !jupyter nbconvert -y --allow-errors --execute --to html $path/index.ipynb\n",
    "    \n",
    "    #in_html=os.path.join(path, 'index.html')\n",
    "    #out_pdf=os.path.join(path, 'index.pdf')\n",
    "    #pdfkit.from_file(in_html, out_pdf) \n",
    "\n",
    "    #if os.path.isfile(path+'/index.pdf'):\n",
    "    #    print(path+'/index.pdf File exist')\n",
    "    #    merger.append(path+'/index.pdf')\n",
    "    #else:\n",
    "    #    print(path+'/index.pdf File not exist')\n",
    "    \n",
    "    #name = str(cnt)+'.pdf'\n",
    "    #!mv $path/index.pdf $path/$name\n",
    "    # cnt+=1\n",
    "\n",
    "#merger.write(\"result.pdf\")\n",
    "#merger.close()\n",
    "f.close()"
   ]
  },
  {
   "cell_type": "code",
   "execution_count": 3,
   "metadata": {},
   "outputs": [
    {
     "name": "stdout",
     "output_type": "stream",
     "text": [
      "dsc-probability-section-intro-onl01-dtsc-ft-030220\n",
      "dsc-probability-section-intro-onl01-dtsc-ft-030220/index.pdfFile exist\n",
      "dsc-probability-introduction-onl01-dtsc-ft-030220\n",
      "dsc-probability-introduction-onl01-dtsc-ft-030220/index.pdfFile exist\n",
      "dsc-intro-to-sets-onl01-dtsc-ft-030220\n",
      "dsc-intro-to-sets-onl01-dtsc-ft-030220/index.pdfFile exist\n",
      "dsc-intro-to-probability-onl01-dtsc-ft-030220\n",
      "dsc-intro-to-probability-onl01-dtsc-ft-030220/index.pdfFile exist\n",
      "dsc-permutations-and-factorials-v2-1-onl01-dtsc-ft-030220\n",
      "dsc-permutations-and-factorials-v2-1-onl01-dtsc-ft-030220/index.pdfFile exist\n",
      "dsc-combinations-onl01-dtsc-ft-030220\n",
      "dsc-combinations-onl01-dtsc-ft-030220/index.pdfFile exist\n",
      "dsc-conditional-probability-onl01-dtsc-ft-030220\n",
      "dsc-conditional-probability-onl01-dtsc-ft-030220/index.pdfFile exist\n",
      "dsc-law-of-total-probability-onl01-dtsc-ft-030220\n",
      "dsc-law-of-total-probability-onl01-dtsc-ft-030220/index.pdfFile exist\n",
      "dsc-probability-section-recap-onl01-dtsc-ft-030220\n",
      "dsc-probability-section-recap-onl01-dtsc-ft-030220/index.pdfFile not exist!! tough luck\n"
     ]
    }
   ],
   "source": [
    "f = open('note_list.txt')\n",
    "merger = PdfFileMerger()\n",
    "\n",
    "\n",
    "for l in f:\n",
    "    path = str(l).strip()\n",
    "    print(path)\n",
    "    \n",
    "    out_pdf=path+'/index.pdf'\n",
    "    if os.path.isfile(out_pdf):\n",
    "        print(out_pdf+'File exist')\n",
    "        merger.append(out_pdf)\n",
    "    else:\n",
    "        print(out_pdf+'File not exist!! tough luck')\n",
    "\n",
    "merger.write(\"result.pdf\")\n",
    "merger.close()\n",
    "f.close()"
   ]
  },
  {
   "cell_type": "code",
   "execution_count": null,
   "metadata": {},
   "outputs": [],
   "source": []
  }
 ],
 "metadata": {
  "kernelspec": {
   "display_name": "Python [conda env:learn-env] *",
   "language": "python",
   "name": "conda-env-learn-env-py"
  },
  "language_info": {
   "codemirror_mode": {
    "name": "ipython",
    "version": 3
   },
   "file_extension": ".py",
   "mimetype": "text/x-python",
   "name": "python",
   "nbconvert_exporter": "python",
   "pygments_lexer": "ipython3",
   "version": "3.6.9"
  },
  "toc": {
   "base_numbering": 1,
   "nav_menu": {},
   "number_sections": true,
   "sideBar": true,
   "skip_h1_title": true,
   "title_cell": "Table of Contents",
   "title_sidebar": "Contents",
   "toc_cell": false,
   "toc_position": {},
   "toc_section_display": true,
   "toc_window_display": false
  }
 },
 "nbformat": 4,
 "nbformat_minor": 2
}
