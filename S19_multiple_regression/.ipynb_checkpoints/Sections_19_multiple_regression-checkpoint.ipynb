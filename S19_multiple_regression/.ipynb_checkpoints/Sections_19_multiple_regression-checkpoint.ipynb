{
 "cells": [
  {
   "cell_type": "markdown",
   "metadata": {},
   "source": [
    "# Section 19: Multiple Regression and Model Validation\n"
   ]
  },
  {
   "cell_type": "markdown",
   "metadata": {},
   "source": [
    "## Introduction\n",
    "[Introduction](./dsc-regression-introduction-onl01-dtsc-ft-030220/index.ipynb)\n",
    "\n",
    "[Multiple Linear Regression](./dsc-multiple-linear-regression-onl01-dtsc-ft-030220/index.ipynb)\n",
    "\n",
    "[Dealing with Categorical Variables](./dsc-dealing-with-categorical-variables-onl01-dtsc-ft-030220/index.ipynb)\n",
    "\n",
    "[Dealing with Categorical Variables - Lab](./dsc-dealing-with-categorical-variables-lab-onl01-dtsc-ft-030220/index.ipynb)\n",
    "\n",
    "[Multicollinearity of Features](./dsc-multicollinearity-of-features-onl01-dtsc-ft-030220/index.ipynb)\n",
    "\n",
    "[Multicollinearity of Features - Lab](./dsc-multicollinearity-of-features-lab-onl01-dtsc-ft-030220/index.ipynb)\n",
    "\n",
    "[Log Transformations](./dsc-log-transformations-onl01-dtsc-ft-030220/index.ipynb)\n",
    "\n",
    "[Feature Scaling and Normalization](./dsc-feature-scaling-and-normalization-onl01-dtsc-ft-030220/index.ipynb)\n",
    "\n",
    "[Feature Scaling and Normalization - Lab](./dsc-feature-scaling-and-normalization-lab-onl01-dtsc-ft-030220/index.ipynb)\n",
    "\n",
    "[Multiple Linear Regression in Statsmodels](./dsc-multiple-linear-regression-in-statsmodels-onl01-dtsc-ft-030220/index.ipynb)\n",
    "\n",
    "[Multiple Linear Regression in Statsmodels - Lab](./dsc-multiple-linear-regression-statsmodels-lab-onl01-dtsc-ft-030220/index.ipynb)\n",
    "\n",
    "[Inference vs Prediction](./dsc-inference-vs-prediction-v2-1-onl01-dtsc-ft-030220/index.ipynb)\n",
    "\n",
    "[Model Fit in Linear Regression](./dsc-model-fit-linear-regression-onl01-dtsc-ft-030220/index.ipynb)\n",
    "\n",
    "[Model Fit in Linear Regression - Lab](./dsc-model-fit-linear-regression-lab-onl01-dtsc-ft-030220/index.ipynb)\n",
    "\n",
    "[Regression Model Validation](./dsc-regression-model-validation-onl01-dtsc-ft-030220/index.ipynb)\n",
    "\n",
    "[Regression Model Validation - Lab](./dsc-regression-model-validation-lab-onl01-dtsc-ft-030220/index.ipynb)\n",
    "\n",
    "[Introduction to Cross Validation](./dsc-cross-validation-onl01-dtsc-ft-030220/index.ipynb)\n",
    "\n",
    "[Introduction to Cross Validation - Lab](./dsc-cross-validation-lab-onl01-dtsc-ft-030220/index.ipynb)\n",
    "\n",
    "[Pickle](./dsc-pickle-onl01-dtsc-ft-030220/index.ipynb)\n",
    "\n",
    "[Data Science Processes](./dsc-data-science-processes-onl01-dtsc-ft-030220/index.ipynb)\n",
    "\n",
    "[Recap](./dsc-regression-model-eval-recap-v2-1-onl01-dtsc-ft-030220/index.ipynb)"
   ]
  },
  {
   "cell_type": "code",
   "execution_count": null,
   "metadata": {},
   "outputs": [],
   "source": []
  }
 ],
 "metadata": {
  "kernelspec": {
   "display_name": "Python 3",
   "language": "python",
   "name": "python3"
  },
  "language_info": {
   "codemirror_mode": {
    "name": "ipython",
    "version": 3
   },
   "file_extension": ".py",
   "mimetype": "text/x-python",
   "name": "python",
   "nbconvert_exporter": "python",
   "pygments_lexer": "ipython3",
   "version": "3.7.7"
  },
  "toc": {
   "base_numbering": 1,
   "nav_menu": {},
   "number_sections": true,
   "sideBar": true,
   "skip_h1_title": true,
   "title_cell": "Table of Contents",
   "title_sidebar": "Contents",
   "toc_cell": false,
   "toc_position": {},
   "toc_section_display": true,
   "toc_window_display": false
  }
 },
 "nbformat": 4,
 "nbformat_minor": 2
}
