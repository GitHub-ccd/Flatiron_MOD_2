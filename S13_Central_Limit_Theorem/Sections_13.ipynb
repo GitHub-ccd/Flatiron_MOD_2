{
 "cells": [
  {
   "cell_type": "markdown",
   "metadata": {},
   "source": [
    "# Section 13: Central Limit Theorem\n",
    "\n",
    " "
   ]
  },
  {
   "cell_type": "markdown",
   "metadata": {},
   "source": [
    "## Central Limit Theorem and Confidence Intervals - Introduction\n",
    "[Introduction](./dsc-inferential-statistics-section-intro-onl01-dtsc-ft-030220/index.ipynb)\n",
    "\n",
    "[Introduction to Sampling](./dsc-introduction-to-sampling-onl01-dtsc-ft-030220/index.ipynb)\n",
    "\n",
    "[Central Limit Theorem](./dsc-central-limit-theorem-onl01-dtsc-ft-030220/index.ipynb)\n",
    "\n",
    "[Central Limit Theorem - Lab](./dsc-central-limit-theorem-lab-onl01-dtsc-ft-030220/index.ipynb)\n",
    "\n",
    "[Sampling Statistics - Lab](./dsc-sampling-statistics-lab-onl01-dtsc-ft-030220/index.ipynb)\n",
    "\n",
    "[Confidence Intervals - Lab](./dsc-confidence-intervals-lab-onl01-dtsc-ft-030220/index.ipynb)\n",
    "\n",
    "[Confidence Intervals with T Distribution](./dsc-intervals-with-t-distribution-onl01-dtsc-ft-030220/index.ipynb)\n",
    "\n",
    "[Confidence Intervals with T Distribution - Lab](./dsc-intervals-with-t-distribution-lab-onl01-dtsc-ft-030220/index.ipynb)\n",
    "\n",
    "[Recap](./dsc-inferential-statistics-section-recap-onl01-dtsc-ft-030220/index.ipynb)"
   ]
  },
  {
   "cell_type": "code",
   "execution_count": null,
   "metadata": {},
   "outputs": [],
   "source": []
  }
 ],
 "metadata": {
  "kernelspec": {
   "display_name": "Python 3",
   "language": "python",
   "name": "python3"
  },
  "language_info": {
   "codemirror_mode": {
    "name": "ipython",
    "version": 3
   },
   "file_extension": ".py",
   "mimetype": "text/x-python",
   "name": "python",
   "nbconvert_exporter": "python",
   "pygments_lexer": "ipython3",
   "version": "3.8.3"
  },
  "toc": {
   "base_numbering": 1,
   "nav_menu": {},
   "number_sections": true,
   "sideBar": true,
   "skip_h1_title": false,
   "title_cell": "Table of Contents",
   "title_sidebar": "Contents",
   "toc_cell": false,
   "toc_position": {},
   "toc_section_display": true,
   "toc_window_display": false
  }
 },
 "nbformat": 4,
 "nbformat_minor": 2
}
