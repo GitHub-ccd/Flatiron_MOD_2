{
 "cells": [
  {
   "cell_type": "markdown",
   "metadata": {},
   "source": [
    "# Section 12: make pdfs of lessons \n",
    "following stack overflow has code to convert .ipynb to .pdf\n",
    "\n",
    "https://stackoverflow.com/questions/15998491/how-to-convert-ipython-notebooks-to-pdf-and-html\n",
    "if pdfs cannot be generated directly much better to convert to HTML and then to pdfs \n",
    "\n",
    "## convert HTML to pdfs\n",
    "\n",
    "https://www.geeksforgeeks.org/python-convert-html-pdf/"
   ]
  },
  {
   "cell_type": "code",
   "execution_count": 1,
   "metadata": {},
   "outputs": [],
   "source": [
    "import os\n",
    "from PyPDF2 import PdfFileMerger\n",
    "import pdfkit "
   ]
  },
  {
   "cell_type": "markdown",
   "metadata": {},
   "source": [
    "# are you shitting me. I can manipulate .pdf on python directly ? \n",
    "pip install PyPDF2\n",
    "\n",
    "https://pypi.org/project/PyPDF2/\n",
    "\n",
    "method to concatenate pdfs are here \n",
    "\n",
    "https://stackoverflow.com/questions/3444645/merge-pdf-files"
   ]
  },
  {
   "cell_type": "code",
   "execution_count": 2,
   "metadata": {},
   "outputs": [
    {
     "name": "stdout",
     "output_type": "stream",
     "text": [
      "dsc-distributions-section-intro-v2-1-onl01-dtsc-ft-030220\n",
      "dsc-stat-distributions-use-cases-onl01-dtsc-ft-030220\n"
     ]
    },
    {
     "name": "stderr",
     "output_type": "stream",
     "text": [
      "[NbConvertApp] Converting notebook dsc-distributions-section-intro-v2-1-onl01-dtsc-ft-030220/index.ipynb to html\n",
      "[NbConvertApp] Executing notebook with kernel: python3\n",
      "[NbConvertApp] Writing 273467 bytes to dsc-distributions-section-intro-v2-1-onl01-dtsc-ft-030220\\index.html\n"
     ]
    },
    {
     "name": "stdout",
     "output_type": "stream",
     "text": [
      "dsc-probability-mass-function-onl01-dtsc-ft-030220\n"
     ]
    },
    {
     "name": "stderr",
     "output_type": "stream",
     "text": [
      "[NbConvertApp] Converting notebook dsc-stat-distributions-use-cases-onl01-dtsc-ft-030220/index.ipynb to html\n",
      "[NbConvertApp] Executing notebook with kernel: python3\n",
      "[NbConvertApp] Writing 279381 bytes to dsc-stat-distributions-use-cases-onl01-dtsc-ft-030220\\index.html\n"
     ]
    },
    {
     "name": "stdout",
     "output_type": "stream",
     "text": [
      "dsc-probability-density-function-onl01-dtsc-ft-030220\n"
     ]
    },
    {
     "name": "stderr",
     "output_type": "stream",
     "text": [
      "[NbConvertApp] Converting notebook dsc-probability-mass-function-onl01-dtsc-ft-030220/index.ipynb to html\n",
      "[NbConvertApp] Executing notebook with kernel: python3\n",
      "[NbConvertApp] Writing 315617 bytes to dsc-probability-mass-function-onl01-dtsc-ft-030220\\index.html\n"
     ]
    },
    {
     "name": "stdout",
     "output_type": "stream",
     "text": [
      "dsc-cumulative-distribution-function-onl01-dtsc-ft-030220\n"
     ]
    },
    {
     "name": "stderr",
     "output_type": "stream",
     "text": [
      "[NbConvertApp] Converting notebook dsc-probability-density-function-onl01-dtsc-ft-030220/index.ipynb to html\n",
      "[NbConvertApp] Executing notebook with kernel: python3\n",
      "[NbConvertApp] Writing 404849 bytes to dsc-probability-density-function-onl01-dtsc-ft-030220\\index.html\n"
     ]
    },
    {
     "name": "stdout",
     "output_type": "stream",
     "text": [
      "dsc-bernoulli-and-binomial-distribution-onl01-dtsc-ft-030220\n"
     ]
    },
    {
     "name": "stderr",
     "output_type": "stream",
     "text": [
      "[NbConvertApp] Converting notebook dsc-cumulative-distribution-function-onl01-dtsc-ft-030220/index.ipynb to html\n",
      "[NbConvertApp] Executing notebook with kernel: python3\n",
      "[NbConvertApp] Writing 278721 bytes to dsc-cumulative-distribution-function-onl01-dtsc-ft-030220\\index.html\n"
     ]
    },
    {
     "name": "stdout",
     "output_type": "stream",
     "text": [
      "dsc-normal-distribution-onl01-dtsc-ft-030220\n"
     ]
    },
    {
     "name": "stderr",
     "output_type": "stream",
     "text": [
      "[NbConvertApp] Converting notebook dsc-bernoulli-and-binomial-distribution-onl01-dtsc-ft-030220/index.ipynb to html\n",
      "[NbConvertApp] Executing notebook with kernel: python3\n",
      "[NbConvertApp] Writing 292093 bytes to dsc-bernoulli-and-binomial-distribution-onl01-dtsc-ft-030220\\index.html\n"
     ]
    },
    {
     "name": "stdout",
     "output_type": "stream",
     "text": [
      "dsc-standard-normal-distribution-onl01-dtsc-ft-030220\n"
     ]
    },
    {
     "name": "stderr",
     "output_type": "stream",
     "text": [
      "[NbConvertApp] Converting notebook dsc-normal-distribution-onl01-dtsc-ft-030220/index.ipynb to html\n",
      "[NbConvertApp] Executing notebook with kernel: python3\n",
      "[NbConvertApp] Writing 284008 bytes to dsc-normal-distribution-onl01-dtsc-ft-030220\\index.html\n"
     ]
    },
    {
     "name": "stdout",
     "output_type": "stream",
     "text": [
      "dsc-z-score-p-value-onl01-dtsc-ft-030220\n"
     ]
    },
    {
     "name": "stderr",
     "output_type": "stream",
     "text": [
      "[NbConvertApp] Converting notebook dsc-standard-normal-distribution-onl01-dtsc-ft-030220/index.ipynb to html\n",
      "[NbConvertApp] Executing notebook with kernel: python3\n",
      "[NbConvertApp] Writing 299708 bytes to dsc-standard-normal-distribution-onl01-dtsc-ft-030220\\index.html\n"
     ]
    },
    {
     "name": "stdout",
     "output_type": "stream",
     "text": [
      "dsc-one-sample-z-test-onl01-dtsc-ft-030220\n"
     ]
    },
    {
     "name": "stderr",
     "output_type": "stream",
     "text": [
      "[NbConvertApp] Converting notebook dsc-z-score-p-value-onl01-dtsc-ft-030220/index.ipynb to html\n",
      "[NbConvertApp] Executing notebook with kernel: python3\n",
      "[NbConvertApp] Writing 291376 bytes to dsc-z-score-p-value-onl01-dtsc-ft-030220\\index.html\n"
     ]
    },
    {
     "name": "stdout",
     "output_type": "stream",
     "text": [
      "dsc-skewness-and-kurtosis-onl01-dtsc-ft-030220\n"
     ]
    },
    {
     "name": "stderr",
     "output_type": "stream",
     "text": [
      "[NbConvertApp] Converting notebook dsc-one-sample-z-test-onl01-dtsc-ft-030220/index.ipynb to html\n",
      "[NbConvertApp] Executing notebook with kernel: python3\n",
      "[NbConvertApp] Writing 310792 bytes to dsc-one-sample-z-test-onl01-dtsc-ft-030220\\index.html\n"
     ]
    },
    {
     "name": "stdout",
     "output_type": "stream",
     "text": [
      "dsc-distributions-section-recap-v2-1-onl01-dtsc-ft-030220\n"
     ]
    },
    {
     "name": "stderr",
     "output_type": "stream",
     "text": [
      "[NbConvertApp] Converting notebook dsc-skewness-and-kurtosis-onl01-dtsc-ft-030220/index.ipynb to html\n",
      "[NbConvertApp] Executing notebook with kernel: python3\n",
      "[NbConvertApp] Writing 280507 bytes to dsc-skewness-and-kurtosis-onl01-dtsc-ft-030220\\index.html\n",
      "[NbConvertApp] Converting notebook dsc-distributions-section-recap-v2-1-onl01-dtsc-ft-030220/index.ipynb to html\n",
      "[NbConvertApp] Executing notebook with kernel: python3\n",
      "[NbConvertApp] Writing 274296 bytes to dsc-distributions-section-recap-v2-1-onl01-dtsc-ft-030220\\index.html\n"
     ]
    }
   ],
   "source": [
    "f = open('note_list.txt')\n",
    "\n",
    "\n",
    "for l in f:\n",
    "    path = str(l).strip()\n",
    "    print(path)\n",
    "    #!cd $path # this shit doesn't work\n",
    "    # syntax jupyter nbconvert --execute --to pdf notebook.ipynb\n",
    "    # jupyter nbconvert --execute --to html notebook.ipynb\n",
    "    !jupyter nbconvert -y --allow-errors --execute --to html $path/index.ipynb\n",
    "    \n",
    "f.close()"
   ]
  },
  {
   "cell_type": "code",
   "execution_count": 3,
   "metadata": {},
   "outputs": [
    {
     "name": "stderr",
     "output_type": "stream",
     "text": [
      "'.' is not recognized as an internal or external command,\n",
      "operable program or batch file.\n"
     ]
    }
   ],
   "source": [
    "# !./make_notes.sh #don't work "
   ]
  },
  {
   "cell_type": "code",
   "execution_count": 4,
   "metadata": {},
   "outputs": [
    {
     "name": "stdout",
     "output_type": "stream",
     "text": [
      "dsc-distributions-section-intro-v2-1-onl01-dtsc-ft-030220\n",
      "dsc-distributions-section-intro-v2-1-onl01-dtsc-ft-030220/index.pdfFile exist\n",
      "dsc-stat-distributions-use-cases-onl01-dtsc-ft-030220\n",
      "dsc-stat-distributions-use-cases-onl01-dtsc-ft-030220/index.pdfFile exist\n",
      "dsc-probability-mass-function-onl01-dtsc-ft-030220\n",
      "dsc-probability-mass-function-onl01-dtsc-ft-030220/index.pdfFile exist\n",
      "dsc-probability-density-function-onl01-dtsc-ft-030220\n",
      "dsc-probability-density-function-onl01-dtsc-ft-030220/index.pdfFile exist\n",
      "dsc-cumulative-distribution-function-onl01-dtsc-ft-030220\n",
      "dsc-cumulative-distribution-function-onl01-dtsc-ft-030220/index.pdfFile exist\n",
      "dsc-bernoulli-and-binomial-distribution-onl01-dtsc-ft-030220\n",
      "dsc-bernoulli-and-binomial-distribution-onl01-dtsc-ft-030220/index.pdfFile exist\n",
      "dsc-normal-distribution-onl01-dtsc-ft-030220\n",
      "dsc-normal-distribution-onl01-dtsc-ft-030220/index.pdfFile exist\n",
      "dsc-standard-normal-distribution-onl01-dtsc-ft-030220\n",
      "dsc-standard-normal-distribution-onl01-dtsc-ft-030220/index.pdfFile exist\n",
      "dsc-z-score-p-value-onl01-dtsc-ft-030220\n",
      "dsc-z-score-p-value-onl01-dtsc-ft-030220/index.pdfFile exist\n",
      "dsc-one-sample-z-test-onl01-dtsc-ft-030220\n",
      "dsc-one-sample-z-test-onl01-dtsc-ft-030220/index.pdfFile exist\n",
      "dsc-skewness-and-kurtosis-onl01-dtsc-ft-030220\n",
      "dsc-skewness-and-kurtosis-onl01-dtsc-ft-030220/index.pdfFile exist\n",
      "dsc-distributions-section-recap-v2-1-onl01-dtsc-ft-030220\n",
      "dsc-distributions-section-recap-v2-1-onl01-dtsc-ft-030220/index.pdfFile not exist!! tough luck\n"
     ]
    }
   ],
   "source": [
    "f = open('note_list.txt')\n",
    "merger = PdfFileMerger()\n",
    "\n",
    "\n",
    "for l in f:\n",
    "    path = str(l).strip()\n",
    "    print(path)\n",
    "    \n",
    "    out_pdf=path+'/index.pdf'\n",
    "    if os.path.isfile(out_pdf):\n",
    "        print(out_pdf+'File exist')\n",
    "        merger.append(out_pdf)\n",
    "    else:\n",
    "        print(out_pdf+'File not exist!! tough luck')\n",
    "\n",
    "merger.write(\"result.pdf\")\n",
    "merger.close()\n",
    "f.close()"
   ]
  },
  {
   "cell_type": "code",
   "execution_count": null,
   "metadata": {},
   "outputs": [],
   "source": []
  }
 ],
 "metadata": {
  "kernelspec": {
   "display_name": "Python [conda env:learn-env] *",
   "language": "python",
   "name": "conda-env-learn-env-py"
  },
  "language_info": {
   "codemirror_mode": {
    "name": "ipython",
    "version": 3
   },
   "file_extension": ".py",
   "mimetype": "text/x-python",
   "name": "python",
   "nbconvert_exporter": "python",
   "pygments_lexer": "ipython3",
   "version": "3.6.9"
  },
  "toc": {
   "base_numbering": 1,
   "nav_menu": {},
   "number_sections": true,
   "sideBar": true,
   "skip_h1_title": true,
   "title_cell": "Table of Contents",
   "title_sidebar": "Contents",
   "toc_cell": false,
   "toc_position": {},
   "toc_section_display": true,
   "toc_window_display": false
  }
 },
 "nbformat": 4,
 "nbformat_minor": 2
}
