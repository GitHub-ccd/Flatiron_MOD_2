{
 "cells": [
  {
   "cell_type": "markdown",
   "metadata": {
    "colab_type": "text",
    "id": "OwT_YeMvNhNf"
   },
   "source": [
    "# Section 12: Statistical Distributions\n",
    "\n",
    "The order of the content and summary important commands of the leasson. "
   ]
  },
  {
   "cell_type": "markdown",
   "metadata": {
    "colab_type": "text",
    "id": "tXNhGOK0NhNk"
   },
   "source": [
    "## 1. Statistical Distributions - Introduction\n",
    "[Introduction](./dsc-distributions-section-intro-v2-1-onl01-dtsc-ft-030220/index.ipynb)\n",
    "\n",
    "[Statistical Distributions and Their Use Cases](./dsc-stat-distributions-use-cases-onl01-dtsc-ft-030220/index.ipynb)\n",
    "\n",
    "[The Probability Mass Function](./dsc-probability-mass-function-onl01-dtsc-ft-030220/index.ipynb)\n",
    "\n",
    "[The Probability Mass Function - Lab](./dsc-probability-mass-function-lab-onl01-dtsc-ft-030220/index.ipynb)\n",
    "\n",
    "[The Probability Density Function](./dsc-probability-density-function-onl01-dtsc-ft-030220/index.ipynb)\n",
    "\n",
    "[The Probability Density Function - Lab](./probability-density-functions-lab-onl01-dtsc-ft-030220/index.ipynb)\n",
    "\n",
    "[The Cumulative Distribution Function](./dsc-cumulative-distribution-function-onl01-dtsc-ft-030220/index.ipynb)\n",
    "\n",
    "[The Cumulative Distribution Function - Lab](./dsc-cumulative-distribution-function-lab-onl01-dtsc-ft-030220/index.ipynb)\n",
    "\n",
    "[The Bernoulli and Binomial Distribution](./dsc-bernoulli-and-binomial-distribution-onl01-dtsc-ft-030220/index.ipynb)\n",
    "\n",
    "[The Bernoulli and Binomial Distribution - Lab](./dsc-bernoulli-and-binomial-distribution-lab-onl01-dtsc-ft-030220/index.ipynb)\n",
    "\n",
    "[The Normal Distribution](./dsc-normal-distribution-onl01-dtsc-ft-030220/index.ipynb)\n",
    "\n",
    "[The Normal Distribution - Lab](./dsc-normal-distribution-lab-onl01-dtsc-ft-030220/index.ipynb)\n",
    "\n",
    "[The Standard Normal Distribution](./dsc-standard-normal-distribution-onl01-dtsc-ft-030220/index.ipynb)\n",
    "\n",
    "[online z-table](http://www.z-table.com/)\n",
    "\n",
    "[The Standard Normal Distribution - Lab](./dsc-standard-normal-distribution-lab-onl01-dtsc-ft-030220/index.ipynb)\n",
    "\n",
    "[Statistical Testing with z-score and p-value](./dsc-z-score-p-value-onl01-dtsc-ft-030220/index.ipynb)\n",
    "\n",
    "[list of statistical tests](https://stats.idre.ucla.edu/spss/whatstat/what-statistical-analysis-should-i-usestatistical-analyses-using-spss/)\n",
    "\n",
    "[One-Sample z-test](./dsc-one-sample-z-test-onl01-dtsc-ft-030220/index.ipynb)\n",
    "\n",
    "[One-Sample z-test - Lab](./dsc-one-sample-z-test-lab-onl01-dtsc-ft-030220/index.ipynb)\n",
    "\n",
    "[Skewness and Kurtosis](./dsc-skewness-and-kurtosis-onl01-dtsc-ft-030220/index.ipynb)\n",
    "\n",
    "[Skewness and Kurtosis - Lab](./dsc-skewness-and-kurtosis-lab-onl01-dtsc-ft-030220/index.ipynb)\n",
    "\n",
    "[Statistical Distributions - Recap](./dsc-distributions-section-recap-v2-1-onl01-dtsc-ft-030220/index.ipynb)\n"
   ]
  },
  {
   "cell_type": "code",
   "execution_count": 0,
   "metadata": {
    "colab": {},
    "colab_type": "code",
    "id": "YyDEaLI4NhNm"
   },
   "outputs": [],
   "source": []
  }
 ],
 "metadata": {
  "colab": {
   "name": "Sections_12.ipynb",
   "provenance": []
  },
  "kernelspec": {
   "display_name": "Python 3",
   "language": "python",
   "name": "python3"
  },
  "language_info": {
   "codemirror_mode": {
    "name": "ipython",
    "version": 3
   },
   "file_extension": ".py",
   "mimetype": "text/x-python",
   "name": "python",
   "nbconvert_exporter": "python",
   "pygments_lexer": "ipython3",
   "version": "3.7.7"
  },
  "toc": {
   "base_numbering": 1,
   "nav_menu": {},
   "number_sections": true,
   "sideBar": true,
   "skip_h1_title": true,
   "title_cell": "Table of Contents",
   "title_sidebar": "Contents",
   "toc_cell": false,
   "toc_position": {},
   "toc_section_display": true,
   "toc_window_display": false
  }
 },
 "nbformat": 4,
 "nbformat_minor": 1
}
