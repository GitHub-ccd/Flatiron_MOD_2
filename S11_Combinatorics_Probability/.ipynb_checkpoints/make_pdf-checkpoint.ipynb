{
 "cells": [
  {
   "cell_type": "markdown",
   "metadata": {},
   "source": [
    "# make pdf's of lessons \n",
    "following stack overflow has code to convert .ipynb to .pdf\n",
    "\n",
    "https://stackoverflow.com/questions/15998491/how-to-convert-ipython-notebooks-to-pdf-and-html"
   ]
  },
  {
   "cell_type": "code",
   "execution_count": null,
   "metadata": {},
   "outputs": [],
   "source": [
    "import os\n",
    "from PyPDF2 import PdfFileMerger"
   ]
  },
  {
   "cell_type": "markdown",
   "metadata": {},
   "source": [
    "# are you shitting me. I can manipulate .pdf on python directly ? \n",
    "pip install PyPDF2\n",
    "\n",
    "https://pypi.org/project/PyPDF2/\n",
    "\n",
    "method to concatenate pdfs are here \n",
    "\n",
    "https://stackoverflow.com/questions/3444645/merge-pdf-files"
   ]
  },
  {
   "cell_type": "code",
   "execution_count": null,
   "metadata": {},
   "outputs": [],
   "source": [
    "f = open('note_list.txt')\n",
    "merger = PdfFileMerger()\n",
    "\n",
    "#cnt=1\n",
    "for l in f:\n",
    "    path=str(l).strip()\n",
    "    print(path)\n",
    "    #!cd $path # this shit doesn't work\n",
    "    #!echo $path\n",
    "    !jupyter nbconvert --execute --to pdf $path/index.ipynb\n",
    "    merger.append(path+'/index.pdf')\n",
    "    #name = str(cnt)+'.pdf'\n",
    "    #!mv $path/index.pdf $path/$name\n",
    "    #cnt+=1\n",
    "\n",
    "merger.write(\"result.pdf\")\n",
    "merger.close()\n",
    "f.close()"
   ]
  },
  {
   "cell_type": "code",
   "execution_count": null,
   "metadata": {},
   "outputs": [],
   "source": []
  },
  {
   "cell_type": "code",
   "execution_count": null,
   "metadata": {},
   "outputs": [],
   "source": []
  }
 ],
 "metadata": {
  "kernelspec": {
   "display_name": "Python [conda env:learn-env] *",
   "language": "python",
   "name": "conda-env-learn-env-py"
  },
  "language_info": {
   "codemirror_mode": {
    "name": "ipython",
    "version": 3
   },
   "file_extension": ".py",
   "mimetype": "text/x-python",
   "name": "python",
   "nbconvert_exporter": "python",
   "pygments_lexer": "ipython3",
   "version": "3.6.9"
  },
  "toc": {
   "base_numbering": 1,
   "nav_menu": {},
   "number_sections": true,
   "sideBar": true,
   "skip_h1_title": true,
   "title_cell": "Table of Contents",
   "title_sidebar": "Contents",
   "toc_cell": false,
   "toc_position": {},
   "toc_section_display": true,
   "toc_window_display": false
  }
 },
 "nbformat": 4,
 "nbformat_minor": 2
}
