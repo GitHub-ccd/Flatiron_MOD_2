{
 "cells": [
  {
   "cell_type": "markdown",
   "metadata": {},
   "source": [
    "# Section 11: Combinatorics and Probability \n",
    "\n",
    "The order of the content and summary important commands of the leasson. "
   ]
  },
  {
   "cell_type": "markdown",
   "metadata": {},
   "source": [
    "## Combinatorics and Probability - Introduction\n",
    "[See Introduction Notebook](./dsc-probability-section-intro-onl01-dtsc-ft-030220/index.ipynb)\n",
    "\n",
    "[what is probability](./dsc-probability-introduction-onl01-dtsc-ft-030220/index.ipynb)"
   ]
  },
  {
   "cell_type": "markdown",
   "metadata": {},
   "source": [
    "## sets \n",
    "[Introduction to Sets](./dsc-intro-to-sets-onl01-dtsc-ft-030220/index.ipynb)\n",
    "\n",
    "[Sets - Lab](./dsc-intro-to-sets-lab-onl01-dtsc-ft-030220/index.ipynb)"
   ]
  },
  {
   "cell_type": "markdown",
   "metadata": {},
   "source": [
    "## Introduction to Probability\n",
    "[Probability](./dsc-intro-to-probability-onl01-dtsc-ft-030220/index.ipynb)\n",
    "\n",
    "[Probability Lab](./dsc-intro-to-probability-lab-onl01-dtsc-ft-030220/index.ipynb)"
   ]
  },
  {
   "cell_type": "markdown",
   "metadata": {},
   "source": [
    "## Permutations and Factorials\n",
    "[Permutations and Factorials](./dsc-permutations-and-factorials-v2-1-onl01-dtsc-ft-030220/index.ipynb)\n",
    "\n",
    "[Permutations and Factorials - Lab](./dsc-permutations-and-factorials-lab-v2-1-onl01-dtsc-ft-030220/index.ipynb)\n",
    "\n",
    "[Combinations](./dsc-combinations-onl01-dtsc-ft-030220/index.ipynb)\n",
    "\n",
    "[Combinations - Lab](./dsc-combinations-lab-onl01-dtsc-ft-030220/index.ipynb)\n"
   ]
  },
  {
   "cell_type": "markdown",
   "metadata": {},
   "source": [
    "## Conditional Probability\n",
    "[Conditional Probability](./dsc-conditional-probability-onl01-dtsc-ft-030220/index.ipynb)\n",
    "\n",
    "[Conditional Probability - Lab](./dsc-conditional-probability-lab-onl01-dtsc-ft-030220/index.ipynb)\n",
    "\n",
    "[Partitioning and the Law of Total Probability](./dsc-law-of-total-probability-onl01-dtsc-ft-030220/index.ipynb)\n",
    "\n",
    "[Partitioning and the Law of Total Probability - lab](./dsc-law-of-total-probability-lab-onl01-dtsc-ft-030220/index.ipynb)\n",
    "\n",
    "[Simulations with Conditional and Total Probability - Lab](./dsc-probability-simulations-lab-onl01-dtsc-ft-030220/index.ipynb)"
   ]
  },
  {
   "cell_type": "markdown",
   "metadata": {},
   "source": [
    "## Combinatorics and Probability - Recap\n",
    "\n",
    "[Recap](./dsc-probability-section-recap-onl01-dtsc-ft-030220/index.ipynb)"
   ]
  },
  {
   "cell_type": "code",
   "execution_count": null,
   "metadata": {},
   "outputs": [],
   "source": []
  }
 ],
 "metadata": {
  "kernelspec": {
   "display_name": "Python 3",
   "language": "python",
   "name": "python3"
  },
  "language_info": {
   "codemirror_mode": {
    "name": "ipython",
    "version": 3
   },
   "file_extension": ".py",
   "mimetype": "text/x-python",
   "name": "python",
   "nbconvert_exporter": "python",
   "pygments_lexer": "ipython3",
   "version": "3.7.7"
  },
  "toc": {
   "base_numbering": 1,
   "nav_menu": {},
   "number_sections": true,
   "sideBar": true,
   "skip_h1_title": false,
   "title_cell": "Table of Contents",
   "title_sidebar": "Contents",
   "toc_cell": false,
   "toc_position": {},
   "toc_section_display": true,
   "toc_window_display": false
  }
 },
 "nbformat": 4,
 "nbformat_minor": 2
}
