{
 "cells": [
  {
   "cell_type": "markdown",
   "metadata": {},
   "source": [
    "# Section 16: AB Testing\n"
   ]
  },
  {
   "cell_type": "markdown",
   "metadata": {},
   "source": [
    "## Introduction\n",
    "[AB Testing - Introduction](./dsc-ab-testing-introduction-onl01-dtsc-ft-030220/index.ipynb)\n",
    "\n",
    "[A/B Testing](./dsc-ab-testing-onl01-dtsc-ft-030220/index.ipynb)\n",
    "\n",
    "[AB Testing - Lab](./dsc-ab-testing-lab-onl01-dtsc-ft-030220/index.ipynb)\n",
    "\n",
    "[In-Depth AB Testing - Lab](./dsc-in-depth-ab-testing-lab-onl01-dtsc-ft-030220/index.ipynb)\n",
    "\n",
    "[Website AB Testing - Lab](./dsc-website-ab-testing-lab-onl01-dtsc-ft-030220/index.ipynb)\n",
    "\n",
    "[AB Testing - Recap](./dsc-ab-testing-recap-onl01-dtsc-ft-030220/index.ipynb)\n"
   ]
  },
  {
   "cell_type": "code",
   "execution_count": null,
   "metadata": {},
   "outputs": [],
   "source": []
  }
 ],
 "metadata": {
  "kernelspec": {
   "display_name": "Python 3",
   "language": "python",
   "name": "python3"
  },
  "language_info": {
   "codemirror_mode": {
    "name": "ipython",
    "version": 3
   },
   "file_extension": ".py",
   "mimetype": "text/x-python",
   "name": "python",
   "nbconvert_exporter": "python",
   "pygments_lexer": "ipython3",
   "version": "3.8.3"
  },
  "toc": {
   "base_numbering": 1,
   "nav_menu": {},
   "number_sections": true,
   "sideBar": true,
   "skip_h1_title": false,
   "title_cell": "Table of Contents",
   "title_sidebar": "Contents",
   "toc_cell": false,
   "toc_position": {},
   "toc_section_display": true,
   "toc_window_display": false
  }
 },
 "nbformat": 4,
 "nbformat_minor": 2
}
