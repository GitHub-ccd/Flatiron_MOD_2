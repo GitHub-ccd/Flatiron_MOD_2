{
 "cells": [
  {
   "cell_type": "markdown",
   "metadata": {},
   "source": [
    "# make pdfs of lessons \n",
    "following stack overflow has code to convert .ipynb to .pdf\n",
    "\n",
    "https://stackoverflow.com/questions/15998491/how-to-convert-ipython-notebooks-to-pdf-and-html\n",
    "if pdfs cannot be generated directly much better to convert to HTML and then to pdfs \n",
    "\n",
    "## convert HTML to pdfs\n",
    "\n",
    "https://www.geeksforgeeks.org/python-convert-html-pdf/"
   ]
  },
  {
   "cell_type": "code",
   "execution_count": 1,
   "metadata": {},
   "outputs": [],
   "source": [
    "import os\n",
    "from PyPDF2 import PdfFileMerger\n",
    "import pdfkit "
   ]
  },
  {
   "cell_type": "markdown",
   "metadata": {},
   "source": [
    "# are you shitting me. I can manipulate .pdf on python directly ? \n",
    "pip install PyPDF2\n",
    "\n",
    "https://pypi.org/project/PyPDF2/\n",
    "\n",
    "method to concatenate pdfs are here \n",
    "\n",
    "https://stackoverflow.com/questions/3444645/merge-pdf-files"
   ]
  },
  {
   "cell_type": "code",
   "execution_count": null,
   "metadata": {},
   "outputs": [],
   "source": [
    "#f = open('note_list.txt')\n",
    "\n",
    "#for l in f:\n",
    "#    path = str(l).strip()\n",
    "#    print(path)\n",
    "    #!cd $path # this shit doesn't work\n",
    "\n",
    "    # syntax jupyter nbconvert --execute --to pdf notebook.ipynb\n",
    "    # jupyter nbconvert --execute --to html notebook.ipynb\n",
    "#    !jupyter nbconvert -y --allow-errors --execute --to html $path/index.ipynb\n",
    "\n",
    "#f.close()"
   ]
  },
  {
   "cell_type": "code",
   "execution_count": 2,
   "metadata": {},
   "outputs": [
    {
     "name": "stdout",
     "output_type": "stream",
     "text": [
      "dsc-hypothesis-testing-intro-v2-1-onl01-dtsc-ft-030220\n",
      "dsc-hypothesis-testing-intro-v2-1-onl01-dtsc-ft-030220/index.pdfFile exist\n",
      "dsc-experimental-design-onl01-dtsc-ft-030220\n",
      "dsc-experimental-design-onl01-dtsc-ft-030220/index.pdfFile exist\n",
      "dsc-p-values-and-null-hypothesis-onl01-dtsc-ft-030220\n",
      "dsc-p-values-and-null-hypothesis-onl01-dtsc-ft-030220/index.pdfFile exist\n",
      "dsc-effect-sizes-onl01-dtsc-ft-030220\n",
      "dsc-effect-sizes-onl01-dtsc-ft-030220/index.pdfFile exist\n",
      "dsc-t-tests-onl01-dtsc-ft-030220\n",
      "dsc-t-tests-onl01-dtsc-ft-030220/index.pdfFile exist\n",
      "dsc-type-1-and-2-error-onl01-dtsc-ft-030220\n",
      "dsc-type-1-and-2-error-onl01-dtsc-ft-030220/index.pdfFile exist\n",
      "dsc-resampling-methods-onl01-dtsc-ft-030220\n",
      "dsc-resampling-methods-onl01-dtsc-ft-030220/index.pdfFile exist\n",
      "dsc-hypothesis-testing-section-recap-v2-1-onl01-dtsc-ft-030220\n",
      "dsc-hypothesis-testing-section-recap-v2-1-onl01-dtsc-ft-030220/index.pdfFile exist\n"
     ]
    }
   ],
   "source": [
    "# run make_notes.sh first \n",
    "f = open('note_list.txt')\n",
    "merger = PdfFileMerger()\n",
    "\n",
    "\n",
    "for l in f:\n",
    "    path = str(l).strip()\n",
    "    print(path)\n",
    "    \n",
    "    out_pdf=path+'/index.pdf'\n",
    "    if os.path.isfile(out_pdf):\n",
    "        print(out_pdf+'File exist')\n",
    "        merger.append(out_pdf)\n",
    "    else:\n",
    "        print(out_pdf+'File not exist!! tough luck')\n",
    "\n",
    "merger.write(\"result.pdf\")\n",
    "merger.close()\n",
    "f.close()"
   ]
  },
  {
   "cell_type": "code",
   "execution_count": null,
   "metadata": {},
   "outputs": [],
   "source": []
  }
 ],
 "metadata": {
  "kernelspec": {
   "display_name": "Python [conda env:learn-env] *",
   "language": "python",
   "name": "conda-env-learn-env-py"
  },
  "language_info": {
   "codemirror_mode": {
    "name": "ipython",
    "version": 3
   },
   "file_extension": ".py",
   "mimetype": "text/x-python",
   "name": "python",
   "nbconvert_exporter": "python",
   "pygments_lexer": "ipython3",
   "version": "3.6.9"
  },
  "toc": {
   "base_numbering": 1,
   "nav_menu": {},
   "number_sections": true,
   "sideBar": true,
   "skip_h1_title": true,
   "title_cell": "Table of Contents",
   "title_sidebar": "Contents",
   "toc_cell": false,
   "toc_position": {},
   "toc_section_display": true,
   "toc_window_display": false
  }
 },
 "nbformat": 4,
 "nbformat_minor": 2
}
