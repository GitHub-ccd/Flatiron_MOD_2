{
 "cells": [
  {
   "cell_type": "markdown",
   "metadata": {},
   "source": [
    "# Section 14: Hypothesis Testing \n",
    "\n"
   ]
  },
  {
   "cell_type": "markdown",
   "metadata": {},
   "source": [
    "## Hypothesis Testing - Introduction\n",
    "\n",
    "[Introduction](./dsc-hypothesis-testing-intro-v2-1-onl01-dtsc-ft-030220/index.ipynb)\n",
    "\n",
    "[Introduction to Experimental Design](./dsc-experimental-design-onl01-dtsc-ft-030220/index.ipynb)\n",
    "\n",
    "[P-Values and the Null Hypothesis](./dsc-p-values-and-null-hypothesis-onl01-dtsc-ft-030220/index.ipynb)\n",
    "\n",
    "[Effect Sizes](./dsc-effect-sizes-onl01-dtsc-ft-030220/index.ipynb)\n",
    "\n",
    "[Conducting T-Tests](./dsc-t-tests-onl01-dtsc-ft-030220/index.ipynb)\n",
    "\n",
    "[One Sample T-Tests - Lab](./dsc-one-sample-t-tests-lab-onl01-dtsc-ft-030220/index.ipynb)\n",
    "\n",
    "[Two Sample T-Tests - Lab](./dsc-two-sample-t-tests-lab-onl01-dtsc-ft-030220/index.ipynb)\n",
    "\n",
    "[Type 1 and Type 2 Errors](./dsc-type-1-and-2-error-onl01-dtsc-ft-030220/index.ipynb)\n",
    "\n",
    "[Type 1 and Type 2 Errors - Lab](./dsc-type-1-and-2-error-lab-onl01-dtsc-ft-030220/index.ipynb)\n",
    "\n",
    "[Resampling Methods](./dsc-resampling-methods-onl01-dtsc-ft-030220/index.ipynb)\n",
    "\n",
    "[Resampling Methods - Lab](./dsc-resampling-methods-lab-onl01-dtsc-ft-030220/index.ipynb)\n",
    "\n",
    "[Recap](./dsc-hypothesis-testing-section-recap-v2-1-onl01-dtsc-ft-030220/index.ipynb)"
   ]
  },
  {
   "cell_type": "code",
   "execution_count": null,
   "metadata": {},
   "outputs": [],
   "source": []
  }
 ],
 "metadata": {
  "kernelspec": {
   "display_name": "Python 3",
   "language": "python",
   "name": "python3"
  },
  "language_info": {
   "codemirror_mode": {
    "name": "ipython",
    "version": 3
   },
   "file_extension": ".py",
   "mimetype": "text/x-python",
   "name": "python",
   "nbconvert_exporter": "python",
   "pygments_lexer": "ipython3",
   "version": "3.7.7"
  },
  "toc": {
   "base_numbering": 1,
   "nav_menu": {},
   "number_sections": true,
   "sideBar": true,
   "skip_h1_title": false,
   "title_cell": "Table of Contents",
   "title_sidebar": "Contents",
   "toc_cell": false,
   "toc_position": {},
   "toc_section_display": true,
   "toc_window_display": false
  }
 },
 "nbformat": 4,
 "nbformat_minor": 2
}
