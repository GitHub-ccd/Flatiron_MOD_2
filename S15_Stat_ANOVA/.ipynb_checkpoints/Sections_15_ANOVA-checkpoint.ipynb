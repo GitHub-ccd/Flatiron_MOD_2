{
 "cells": [
  {
   "cell_type": "markdown",
   "metadata": {},
   "source": [
    "# Section 15: Statistical Power and ANOVA\n",
    "\n"
   ]
  },
  {
   "cell_type": "markdown",
   "metadata": {},
   "source": [
    "## Statistical Power and ANOVA - Introduction\n",
    "[Introduction](./dsc-statistical-power-anova-introduction-onl01-dtsc-ft-030220/index.ipynb)\n",
    "\n",
    "[Statistical Power](./dsc-statistical-power-onl01-dtsc-ft-030220/index.ipynb)\n",
    "\n",
    "[Statistical Power - Lab](./dsc-statistical-power-lab-onl01-dtsc-ft-030220/index.ipynb)\n",
    "\n",
    "[Welch's T-Test](./dsc-welchs-ttest-onl01-dtsc-ft-030220/index.ipynb)\n",
    "\n",
    "[Welch's T-Test - Lab](./dsc-welchs-ttest-lab-onl01-dtsc-ft-030220/index.ipynb)\n",
    "\n",
    "[Effect Sizes, P-Values and Power - Lab](./dsc-effect-sizes-pvalues-and-power-lab-onl01-dtsc-ft-030220/index.ipynb)\n",
    "\n",
    "[Multiple Comparisons Problem](./dsc-multiple-comparisons-problem-onl01-dtsc-ft-030220/index.ipynb)\n",
    "\n",
    "[Goodhart's Law and Metric Tracking](./dsc-goodharts-law-and-metric-tracking-onl01-dtsc-ft-030220/index.ipynb)\n",
    "\n",
    "[Kolmogorov-Smirnov Test](./dsc-kolmogorov-smirnov-test-onl01-dtsc-ft-030220/index.ipynb)\n",
    "\n",
    "[Kolmogorov-Smirnov Test - Lab](./dsc-komogorov-smirnov-test-lab-onl01-dtsc-ft-030220/index.ipynb)\n",
    "\n",
    "[ANOVA](./dsc-anova-onl01-dtsc-ft-030220/index.ipynb)\n",
    "\n",
    "[ANOVA - Lab](./dsc-anova-lab-onl01-dtsc-ft-030220/index.ipynb)\n",
    "\n",
    "[Recap](./dsc-statistical-power-anova-recap-onl01-dtsc-ft-030220/index.ipynb)"
   ]
  },
  {
   "cell_type": "code",
   "execution_count": null,
   "metadata": {},
   "outputs": [],
   "source": []
  }
 ],
 "metadata": {
  "kernelspec": {
   "display_name": "Python 3",
   "language": "python",
   "name": "python3"
  },
  "language_info": {
   "codemirror_mode": {
    "name": "ipython",
    "version": 3
   },
   "file_extension": ".py",
   "mimetype": "text/x-python",
   "name": "python",
   "nbconvert_exporter": "python",
   "pygments_lexer": "ipython3",
   "version": "3.7.4"
  }
 },
 "nbformat": 4,
 "nbformat_minor": 2
}
