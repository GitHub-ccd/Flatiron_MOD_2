{
 "cells": [
  {
   "cell_type": "markdown",
   "metadata": {},
   "source": [
    "# Section 1: TOC and Notes\n",
    "\n",
    "The order of the content and summary important commands of the leasson. "
   ]
  },
  {
   "cell_type": "markdown",
   "metadata": {},
   "source": [
    "## 1. Getting Started with Data Science - Introduction\n",
    "[See Introduction Notebook](./dsc-introduction-section-intro-onl01-dtsc-ft-030220/index.ipynb)\n",
    "\n",
    "[See Problems Data Science Can Solve Notebook](./dsc-problems-data-science-can-solve-onl01-dtsc-ft-030220/index.ipynb)\n",
    "\n",
    "[See The Data Science Process Notebook](./dsc-the-data-science-process-onl01-dtsc-ft-030220/index.ipynb)\n",
    "\n",
    "[See Working with Lessons on Learn Notebook](./dsc-learn-lessons-onl01-dtsc-ft-030220/index.ipynb)\n",
    "\n",
    "[See Working with Lessons on Learn Lab](./dsc-learn-lessons-lab-onl01-dtsc-ft-030220/index.ipynb)\n",
    "\n",
    "[See Your First Data Science Codealong!](./dsc-first-codealong-onl01-dtsc-ft-030220/index.ipynb)"
   ]
  },
  {
   "cell_type": "markdown",
   "metadata": {},
   "source": [
    "## 2. Setting up a Professional Data Science Environment\n",
    "[See Environment lab](./dsc-data-science-env-installation-v2-1-onl01-dtsc-ft-030220/README.ipynb)\n",
    "\n",
    "[See Environment lab2](./dsc-data-science-env-setup-v2-1-onl01-dtsc-ft-030220/README.ipynb)\n",
    "These README.md 's don't work. Go to the folder. "
   ]
  },
  {
   "cell_type": "markdown",
   "metadata": {},
   "source": [
    "## 3. Introduction to python\n",
    "[Introduction to Variables: Variable Assignment Notebook](./dsc-variable-assignment-intro-onl01-dtsc-ft-030220/index.ipynb)\n",
    "\n",
    "[Introduction to Variables: Strings Notebook](./dsc-strings-onl01-dtsc-ft-030220/index.ipynb)\n",
    "\n",
    "[Introduction to Variables: Strings Lab](./dsc-strings-lab-onl01-dtsc-ft-030220/index.ipynb)\n",
    "\n",
    "[Introduction to Variables: Numeric Types and Booleans Notebook](./dsc-floats-ints-booleans-onl01-dtsc-ft-030220/index.ipynb)\n",
    "\n",
    "[Introduction to Variables: Strings and Numeric Types Lab](./dsc-strings-floats-ints-lab-onl01-dtsc-ft-030220/index.ipynb)\n",
    "\n",
    "[Introduction to Variables: Variable Assignment Lab](./dsc-variable-assignment-lab-onl01-dtsc-ft-030220/index.ipynb)\n"
   ]
  },
  {
   "cell_type": "markdown",
   "metadata": {},
   "source": [
    "## 4. Python Control Flow statements\n",
    "[Conditionals Notebook](./dsc-conditionals-onl01-dtsc-ft-030220/index.ipynb)<br>\n",
    "[Conditionals Lab](./dsc-conditionals-lab-onl01-dtsc-ft-030220/index.ipynb)\n",
    "\n",
    "[Working with Lists Notebook](./dsc-lists-onl01-dtsc-ft-030220/index.ipynb)<br>\n",
    "[Working with Lists Lab](./dsc-lists-lab-onl01-dtsc-ft-030220/index.ipynb)\n",
    "\n",
    "[Working With Dictionaries Notebook](./dsc-dictionaries-onl01-dtsc-ft-030220/index.ipynb)<br>\n",
    "[Working With Dictionaries Lab](./dsc-dictionaries-lab-onl01-dtsc-ft-030220/index.ipynb)\n",
    "\n",
    "[Looping Over Collections Notebook](./dsc-looping-over-collections-onl01-dtsc-ft-030220/index.ipynb)<br>\n",
    "[Looping Over Collections Lab](./dsc-looping-over-collections-lab-onl01-dtsc-ft-030220/index.ipynb)\n",
    "\n",
    "[Data Visualization Notebook](./dsc-data-viz-onl01-dtsc-ft-030220/index.ipynb)<br>\n",
    "[Data Visualization Lab](./dsc-data-viz-lab-onl01-dtsc-ft-030220/index.ipynb)\n"
   ]
  },
  {
   "cell_type": "markdown",
   "metadata": {},
   "source": [
    "## 5. Project: Analyzing Macbeth\n",
    "[Project Notebook](./dsc-analyzing-macbeth-project-v2-1-onl01-dtsc-ft-030220/index.ipynb)\n",
    "\n",
    "[Getting Started with Data Science - Recap Notebook](./dsc-pandas-data-cleaning-recap-onl01-dtsc-ft-030220/index.ipynb)"
   ]
  }
 ],
 "metadata": {
  "kernelspec": {
   "display_name": "Python 3",
   "language": "python",
   "name": "python3"
  },
  "language_info": {
   "codemirror_mode": {
    "name": "ipython",
    "version": 3
   },
   "file_extension": ".py",
   "mimetype": "text/x-python",
   "name": "python",
   "nbconvert_exporter": "python",
   "pygments_lexer": "ipython3",
   "version": "3.6.9"
  }
 },
 "nbformat": 4,
 "nbformat_minor": 2
}
