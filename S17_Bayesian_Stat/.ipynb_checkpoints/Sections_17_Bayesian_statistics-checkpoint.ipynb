{
 "cells": [
  {
   "cell_type": "markdown",
   "metadata": {},
   "source": [
    "# Section 17: Bayesian Statistics\n",
    "\n",
    "The order of the content and summary important commands of the leasson. "
   ]
  },
  {
   "cell_type": "markdown",
   "metadata": {},
   "source": [
    "## 1. Bayesian Statistics - Introduction\n",
    "[Introduction](./dsc-bayesian-stats-introduction-onl01-dtsc-ft-030220/index.ipynb)\n",
    "\n",
    "[Bayesians vs Frequentists](./dsc-bayesians-vs-frequentists-onl01-dtsc-ft-030220/index.ipynb)\n",
    "\n",
    "[Bayes Theorem](./dsc-bayes-theorem-onl01-dtsc-ft-030220/index.ipynb)\n",
    "\n",
    "[Bayes Theorem - Lab](./dsc-bayes-theorem-lab-onl01-dtsc-ft-030220/index.ipynb)\n",
    "\n",
    "[Monty Hall Problem - Lab](./dsc-monty-hall-problem-lab-onl01-dtsc-ft-030220/index.ipynb)\n",
    "\n",
    "[Maximim Likelihood Estimation (MLE)](./dsc-mle-onl01-dtsc-ft-030220/index.ipynb)\n",
    "\n",
    "[Maximum A Posteriori Estimation (MAP) and Multinomial Bayes](./dsc-map-multinomial-bayes-onl01-dtsc-ft-030220/index.ipynb)\n",
    "\n",
    "[Recap](./dsc-bayesian-stats-recap-onl01-dtsc-ft-030220/index.ipynb)"
   ]
  },
  {
   "cell_type": "code",
   "execution_count": null,
   "metadata": {},
   "outputs": [],
   "source": []
  }
 ],
 "metadata": {
  "kernelspec": {
   "display_name": "Python 3",
   "language": "python",
   "name": "python3"
  },
  "language_info": {
   "codemirror_mode": {
    "name": "ipython",
    "version": 3
   },
   "file_extension": ".py",
   "mimetype": "text/x-python",
   "name": "python",
   "nbconvert_exporter": "python",
   "pygments_lexer": "ipython3",
   "version": "3.7.7"
  },
  "toc": {
   "base_numbering": 1,
   "nav_menu": {},
   "number_sections": true,
   "sideBar": true,
   "skip_h1_title": true,
   "title_cell": "Table of Contents",
   "title_sidebar": "Contents",
   "toc_cell": false,
   "toc_position": {},
   "toc_section_display": true,
   "toc_window_display": false
  }
 },
 "nbformat": 4,
 "nbformat_minor": 2
}
