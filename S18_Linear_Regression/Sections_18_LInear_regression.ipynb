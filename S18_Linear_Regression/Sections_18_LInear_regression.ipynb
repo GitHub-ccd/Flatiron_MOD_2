{
 "cells": [
  {
   "cell_type": "markdown",
   "metadata": {},
   "source": [
    "# Section 18: Introduction to Linear Regression\n"
   ]
  },
  {
   "cell_type": "markdown",
   "metadata": {},
   "source": [
    "## Introduction\n",
    "[Introduction](./dsc-linear-regression-section-intro-v2-1-onl01-dtsc-ft-030220/index.ipynb)\n",
    "\n",
    "[Statistical Learning Theory](./dsc-stat-learning-theory-onl01-dtsc-ft-030220/index.ipynb)\n",
    "\n",
    "[Simple Linear Regression](./dsc-simple-linear-regression-onl01-dtsc-ft-030220/index.ipynb)\n",
    "\n",
    "[Simple Linear Regression - Lab](./dsc-simple-linear-regression-lab-onl01-dtsc-ft-030220/index.ipynb)\n",
    "\n",
    "[Coefficient of Determination](./dsc-coefficient-of-determination-onl01-dtsc-ft-030220/index.ipynb)\n",
    "\n",
    "[Coefficient Of Determination - Lab](./dsc-coefficient-of-determination-lab-onl01-dtsc-ft-030220/index.ipynb)\n",
    "\n",
    "[Regression - Lab](./dsc-complete-regression-lab-onl01-dtsc-ft-030220/index.ipynb)\n",
    "\n",
    "[Assumptions for Linear Regression](./dsc-regression-assumptions-onl01-dtsc-ft-030220/index.ipynb)\n",
    "\n",
    "[Ordinary Least Squares in Statsmodels (OLS)](./dsc-ols-statsmodels-onl01-dtsc-ft-030220/index.ipynb)\n",
    "\n",
    "[Ordinary Least Squares in Statsmodels (OLS) - Lab](./dsc-ols-statsmodels-lab-onl01-dtsc-ft-030220/index.ipynb)\n",
    "\n",
    "[Regression Diagnostics in Statsmodels](./dsc-ols-regression-diagnostics-onl01-dtsc-ft-030220/index.ipynb)\n",
    "\n",
    "[Interpreting Significance and P-value](./dsc-significance-p-value-onl01-dtsc-ft-030220/index.ipynb)\n",
    "\n",
    "[Project: Regression Modeling with the Boston Housing Dataset](./dsc-regression-boston-lab-onl01-dtsc-ft-030220/index.ipynb)\n",
    "\n",
    "[Boston housing project solutions](./dsc-regression-boston-lab/index.ipynb)\n",
    "\n",
    "[Introduction to Linear Regression - Recap](./dsc-linear-regression-section-recap-v2-1-onl01-dtsc-ft-030220/index.ipynb)"
   ]
  },
  {
   "cell_type": "code",
   "execution_count": null,
   "metadata": {},
   "outputs": [],
   "source": []
  }
 ],
 "metadata": {
  "kernelspec": {
   "display_name": "Python 3",
   "language": "python",
   "name": "python3"
  },
  "language_info": {
   "codemirror_mode": {
    "name": "ipython",
    "version": 3
   },
   "file_extension": ".py",
   "mimetype": "text/x-python",
   "name": "python",
   "nbconvert_exporter": "python",
   "pygments_lexer": "ipython3",
   "version": "3.6.9"
  },
  "toc": {
   "base_numbering": 1,
   "nav_menu": {},
   "number_sections": true,
   "sideBar": true,
   "skip_h1_title": false,
   "title_cell": "Table of Contents",
   "title_sidebar": "Contents",
   "toc_cell": false,
   "toc_position": {},
   "toc_section_display": true,
   "toc_window_display": false
  }
 },
 "nbformat": 4,
 "nbformat_minor": 2
}
